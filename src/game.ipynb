{
 "cells": [
  {
   "cell_type": "markdown",
   "metadata": {},
   "source": [
    "-get player choice\n",
    "-get computer choice\n",
    "-get winner\n",
    "-print winner\n",
    "-play again"
   ]
  },
  {
   "cell_type": "code",
   "execution_count": 22,
   "metadata": {},
   "outputs": [],
   "source": [
    "import random\n",
    "\n",
    "\n",
    "class Rockpaperscissors:\n",
    "    def __init__(self, name):\n",
    "        self.choices = ['rock', 'paper', 'scissors']\n",
    "        self.name = name\n",
    "\n",
    "    def get_player_choices(self):\n",
    "        user_choices = input(f'Enter your choice: ({self.choices})')\n",
    "        if user_choices.lower() in self.choices:\n",
    "            return user_choices\n",
    "\n",
    "\n",
    "        print(f'Invalid choice, you must select from {self.choices}')\n",
    "        return self.get_player_choices()\n",
    "\n",
    "\n",
    "    def get_computer_choices(self):\n",
    "        return random.choice(self.choices )\n",
    "\n",
    "    def decide_winner(self, user_choices, camputer_choices):\n",
    "        if user_choices == camputer_choices:\n",
    "            return \"it's Tie!\"\n",
    "\n",
    "        win_combinations = [('rock', 'scissors'),('paper', 'rock'), ('scissors', 'paper')]\n",
    "        for win_comb in win_combinations:\n",
    "            if (user_choices == win_comb[0]) and (camputer_choices == win_comb[1]):\n",
    "                return 'Players win!'\n",
    "\n",
    "\n",
    "        return 'oh no! the camputer won'\n",
    "\n",
    "\n",
    "\n",
    "\n",
    "\n",
    "    def play(self):\n",
    "        user_choices = self.get_player_choices()\n",
    "        computer_choices = self.get_computer_choices()\n",
    "        winner = self.decide_winner(user_choices, computer_choices)\n",
    "        print(winner)"
   ]
  },
  {
   "cell_type": "code",
   "execution_count": 24,
   "metadata": {},
   "outputs": [
    {
     "name": "stdout",
     "output_type": "stream",
     "text": [
      "oh no! the camputer won\n"
     ]
    }
   ],
   "source": [
    "game = Rockpaperscissors('hirad')\n",
    "game.play()\n"
   ]
  },
  {
   "cell_type": "code",
   "execution_count": null,
   "metadata": {},
   "outputs": [],
   "source": [
    "while True:\n",
    "    game.playe()\n",
    "\n",
    "    continue_game = input('Do you want play again? (enter any key to paly again, enter q/Q to exit!')\n",
    "    if continue_game.lower == 'q':\n",
    "        break"
   ]
  }
 ],
 "metadata": {
  "kernelspec": {
   "display_name": "new-env",
   "language": "python",
   "name": "python3"
  },
  "language_info": {
   "codemirror_mode": {
    "name": "ipython",
    "version": 3
   },
   "file_extension": ".py",
   "mimetype": "text/x-python",
   "name": "python",
   "nbconvert_exporter": "python",
   "pygments_lexer": "ipython3",
   "version": "3.10.14"
  }
 },
 "nbformat": 4,
 "nbformat_minor": 2
}
